{
 "cells": [
  {
   "cell_type": "markdown",
   "metadata": {},
   "source": [
    "# Problem Set 5 Solutions\n",
    "\n",
    "PH - 531 E&M\n",
    "\n",
    "Author:  Guillermo Fidlago\n"
   ]
  },
  {
   "cell_type": "markdown",
   "metadata": {},
   "source": [
    "Use the finite element method described in Section 2.12 of Jackson’s textbook to find the potential inside a square of side $a$. \n",
    "The potential at the top of the square is one volt $(V(x,y=a)=1$ Volt). \n",
    "\n",
    "The potential on the other three sides is zero. There is no charge inside the square. \n",
    "Compare your result with the exact result which you can obtain using separation of variables"
   ]
  },
  {
   "cell_type": "markdown",
   "metadata": {},
   "source": []
  }
 ],
 "metadata": {
  "language_info": {
   "name": "python"
  }
 },
 "nbformat": 4,
 "nbformat_minor": 2
}

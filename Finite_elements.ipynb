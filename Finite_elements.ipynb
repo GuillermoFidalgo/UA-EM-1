{
 "cells": [
  {
   "cell_type": "markdown",
   "metadata": {},
   "source": [
    "# Problem Set 5 Solutions\n",
    "\n",
    "PH - 531 E&M\n",
    "\n",
    "Author:  Guillermo Fidlago\n"
   ]
  },
  {
   "cell_type": "markdown",
   "metadata": {},
   "source": [
    "Use the finite element method described in Section 2.12 of Jackson’s textbook to find the potential inside a square of side $a$. \n",
    "The potential at the top of the square is one volt $(V(x,y=a)=1$ Volt). \n",
    "\n",
    "The potential on the other three sides is zero. There is no charge inside the square. \n",
    "Compare your result with the exact result which you can obtain using separation of variables"
   ]
  },
  {
   "cell_type": "markdown",
   "metadata": {
    "vscode": {
     "languageId": "plaintext"
    }
   },
   "source": [
    "For the analytical method we have to solve the Laplace Equation with Separation of Variables\n",
    "\n"
   ]
  },
  {
   "cell_type": "markdown",
   "metadata": {},
   "source": [
    "$$ \\nabla^2 V = 0 $$\n",
    "\n",
    "\\begin{equation*}\n",
    "\\frac{\\partial^2 V}{ \\partial x^2}  + \\frac{\\partial^2 V}{\\partial y^2} = 0\n",
    "\\end{equation*}"
   ]
  },
  {
   "cell_type": "markdown",
   "metadata": {},
   "source": [
    "If we assume a Solution of the form \n",
    "$$\n",
    "    X(x)Y(y) = V(x,y)\n",
    "$$\n",
    "\n",
    "we end with the following expression \n",
    "$$\n",
    "\\underbrace{\\frac{X''}{X}}_{\\alpha^2} + \\underbrace{\\frac{Y''}{Y}}_{\\beta^2}= 0\n",
    "$$\n",
    "This can only be true for two constant terms that add to zero and in this case $\\alpha^2 = -\\beta^2$.\n",
    "Due to the symmetry of this problem we choose the following two second order ODE's.\n",
    "\n",
    "\\begin{gather*}\n",
    "\\frac{d^2 V}{d x^2} = -\\alpha^2 X \\to A\\cos \\alpha x + B \\sin \\alpha x \\\\\n",
    "\\frac{d^2 V}{d y^2} = \\alpha^2 Y \\to C e^{\\alpha y} + D e^{-\\alpha y}\n",
    "\\end{gather*}"
   ]
  },
  {
   "cell_type": "markdown",
   "metadata": {},
   "source": []
  }
 ],
 "metadata": {
  "kernelspec": {
   "display_name": "base",
   "language": "python",
   "name": "python3"
  },
  "language_info": {
   "name": "python",
   "version": "3.12.5"
  }
 },
 "nbformat": 4,
 "nbformat_minor": 2
}
